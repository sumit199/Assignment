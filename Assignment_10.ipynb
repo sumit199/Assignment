{
 "cells": [
  {
   "cell_type": "markdown",
   "id": "e9ea6f94",
   "metadata": {},
   "source": [
    "### 1. How do you distinguish between shutil.copy() and shutil.copytree()?"
   ]
  },
  {
   "cell_type": "markdown",
   "id": "c8db9127",
   "metadata": {},
   "source": [
    "The shutil.copy() function will copy a single file, while shutil.copytree() will copy an entire folder,\n",
    "along with all its contents."
   ]
  },
  {
   "cell_type": "code",
   "execution_count": null,
   "id": "d97167da",
   "metadata": {},
   "outputs": [],
   "source": []
  },
  {
   "cell_type": "markdown",
   "id": "3b51b498",
   "metadata": {},
   "source": [
    "### 2. What function is used to rename files??"
   ]
  },
  {
   "cell_type": "markdown",
   "id": "e0a26501",
   "metadata": {},
   "source": [
    "The shutil.move() function is used for renaming files, as well as moving them"
   ]
  },
  {
   "cell_type": "code",
   "execution_count": null,
   "id": "7c1c3805",
   "metadata": {},
   "outputs": [],
   "source": []
  },
  {
   "cell_type": "markdown",
   "id": "71cc8d3e",
   "metadata": {},
   "source": [
    "### 3. What is the difference between the delete functions in the send2trash and shutil modules?\n"
   ]
  },
  {
   "cell_type": "markdown",
   "id": "636eceea",
   "metadata": {},
   "source": [
    "The send2trash functions will move a file or folder to the recycle bin, while shutil functions will permanently delete files and folders."
   ]
  },
  {
   "cell_type": "code",
   "execution_count": null,
   "id": "f80f9851",
   "metadata": {},
   "outputs": [],
   "source": []
  },
  {
   "cell_type": "markdown",
   "id": "bbb625c7",
   "metadata": {},
   "source": [
    "### 4.ZipFile objects have a close() method just like File objects’ close() method. What ZipFile method is equivalent to File objects’ open() method?\n"
   ]
  },
  {
   "cell_type": "markdown",
   "id": "b37991af",
   "metadata": {},
   "source": [
    "The zipfile.ZipFile() function is equivalent to the open() function; the first argument is the filename, and the second argument is the mode to open the ZIP file in (read, write, or append)."
   ]
  },
  {
   "cell_type": "code",
   "execution_count": null,
   "id": "1fa2c56b",
   "metadata": {},
   "outputs": [],
   "source": []
  },
  {
   "cell_type": "markdown",
   "id": "f5f0ee1d",
   "metadata": {},
   "source": [
    "### 5. Create a programme that searches a folder tree for files with a certain file extension (such as .pdf or .jpg). Copy these files from whatever location they are in to a new folder.\n"
   ]
  },
  {
   "cell_type": "code",
   "execution_count": 6,
   "id": "47883def",
   "metadata": {},
   "outputs": [
    {
     "name": "stdout",
     "output_type": "stream",
     "text": [
      "Enter the absolute path of the source folder: E:\\ineuron\\assignment\n",
      "Enter the file extension type (such as .pdf or .jpg):.txt\n",
      "Enter the absolute path of the destination folder:E:\\ineuron\\assignment work\n"
     ]
    }
   ],
   "source": [
    "import os, shutil\n",
    "\n",
    "sourcePath = input('Enter the absolute path of the source folder: ')\n",
    "fileExtType = input('Enter the file extension type (such as .pdf or .jpg):').lower()\n",
    "destPath = input('Enter the absolute path of the destination folder:')\n",
    "\n",
    "for foldername, subfolders, filenames in os.walk(sourcePath):\n",
    "    for filename in filenames:\n",
    "        if filename.lower().endswith(fileExtType):\n",
    "         #print(foldername + ‘\\\\’ + filename)\n",
    "            copySourcePath = os.path.join(foldername, filename)\n",
    "         #print(copySourcePath)\n",
    "            shutil.copy(copySourcePath, destPath)\n",
    "        else:\n",
    "            continue"
   ]
  },
  {
   "cell_type": "code",
   "execution_count": null,
   "id": "fa59d880",
   "metadata": {},
   "outputs": [],
   "source": []
  },
  {
   "cell_type": "code",
   "execution_count": null,
   "id": "190bf4a4",
   "metadata": {},
   "outputs": [],
   "source": []
  }
 ],
 "metadata": {
  "kernelspec": {
   "display_name": "Python 3 (ipykernel)",
   "language": "python",
   "name": "python3"
  },
  "language_info": {
   "codemirror_mode": {
    "name": "ipython",
    "version": 3
   },
   "file_extension": ".py",
   "mimetype": "text/x-python",
   "name": "python",
   "nbconvert_exporter": "python",
   "pygments_lexer": "ipython3",
   "version": "3.7.4"
  }
 },
 "nbformat": 4,
 "nbformat_minor": 5
}
